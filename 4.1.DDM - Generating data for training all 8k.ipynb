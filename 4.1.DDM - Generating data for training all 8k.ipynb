{
 "cells": [
  {
   "cell_type": "markdown",
   "metadata": {},
   "source": [
    "# DDM with CNN\n",
    "Generating training data"
   ]
  },
  {
   "cell_type": "markdown",
   "metadata": {},
   "source": [
    "## Importing the necessary modules"
   ]
  },
  {
   "cell_type": "code",
   "execution_count": 1,
   "metadata": {},
   "outputs": [],
   "source": [
    "%matplotlib inline\n",
    "import matplotlib\n",
    "import matplotlib.pyplot as plt\n",
    "import os\n",
    "import pickle\n",
    "import yaml\n",
    "import glob\n",
    "\n",
    "import numpy as np #numerical python used for working with arrays, mathematical operations\n",
    "import xarray as xr #package for labeling and adding metadata to multi-dimensional arrays\n",
    "\n",
    "import sys\n",
    "#sys.path.append(\"C:/Users/rmcgorty/Documents/GitHub/PyDDM/PyDDM\") #must point to the PyDDM folder\n",
    "#sys.path.append(\"C:\\\\Users\\\\svc-scst291lab\\\\Downloads\\\\PyDDM-main\\\\PyDDM-main\\PyDDM\")\n",
    "#sys.path.append(\"C:\\\\Users\\\\svc-scst255lab\\\\Documents\\\\GitHub\\\\PyDDM\\\\PyDDM\")\n",
    "sys.path.append(\"C:\\\\Users\\\\jamss\\Downloads\\\\PyDDM-main\\\\PyDDM-main\\\\PyDDM\")\n",
    "import ddm_analysis_and_fitting as ddm\n",
    "#import TCF_Training_Prep"
   ]
  },
  {
   "cell_type": "markdown",
   "metadata": {
    "tags": []
   },
   "source": [
    "## Creating dictionary of metadata "
   ]
  },
  {
   "cell_type": "code",
   "execution_count": 2,
   "metadata": {},
   "outputs": [],
   "source": [
    "ddm_analysis_parameters_str = \"\"\"\n",
    "DataDirectory: 'C:\\\\Users\\\\jamss\\\\Downloads\\\\StevenData\\\\1umBead_DexGrad_Control_52min_0.0mm_Sweep_1\\\\'\n",
    "FileName: '1umBead_DexGrad_Control_52min_0.0mm_Sweep_1_MMStack_Pos0.ome.tif'\n",
    "Metadata:\n",
    "  pixel_size: .187 # size of pixel in um\n",
    "  frame_rate: 25 #frames per second\n",
    "Analysis_parameters:\n",
    "  starting_frame_number: 0\n",
    "  ending_frame_number: 8000\n",
    "  number_lag_times: 100\n",
    "  last_lag_time: 600\n",
    "  crop_to_roi: [0,256,0,256]\n",
    "  binning: yes\n",
    "  bin_size: 2\n",
    "  use_windowing_function: no\n",
    "Fitting_parameters:\n",
    "  model: 'DDM Matrix - Single Exponential'\n",
    "  Tau: [1.0, 0.001, 10]\n",
    "  StretchingExp: [1.0, 0.5, 3.1]\n",
    "  Amplitude: [1e2, 1, 1e6]\n",
    "  Background: [2.5e4, 0, 1e7]\n",
    "  Good_q_range: [5, 20]\n",
    "  Auto_update_good_q_range: True\n",
    "\"\"\"\n",
    "parameters_as_dictionary = yaml.safe_load(ddm_analysis_parameters_str)"
   ]
  },
  {
   "cell_type": "markdown",
   "metadata": {},
   "source": [
    "## Looping through files and q to find the time dependent DDM matrix"
   ]
  },
  {
   "cell_type": "code",
   "execution_count": 3,
   "metadata": {},
   "outputs": [
    {
     "name": "stdout",
     "output_type": "stream",
     "text": [
      "['1umBead_DexGrad_Control_52min_0.0mm_Sweep_1_MMStack_Pos0.ome.tif']\n"
     ]
    }
   ],
   "source": [
    "dict_datafile = [k for k in os.listdir(parameters_as_dictionary['DataDirectory']) if 'tif' in k]\n",
    "print(dict_datafile)"
   ]
  },
  {
   "cell_type": "code",
   "execution_count": 4,
   "metadata": {},
   "outputs": [
    {
     "name": "stdout",
     "output_type": "stream",
     "text": [
      "Provided metadata: {'pixel_size': 0.187, 'frame_rate': 25}\n",
      "Image shape: 8000-by-256-by-256\n",
      "Number of frames to use for analysis: 8000\n",
      "Maximum lag time (in frames): 600\n",
      "Number of lag times to compute DDM matrix: 100\n",
      "New dimensions after cropping: 256-by-256\n",
      "Applying binning...\n",
      "Dimensions after binning (8000, 128, 128), the new pixel size 0.374\n",
      "Will run DDM computation to correct for velocity...\n"
     ]
    }
   ],
   "source": [
    "for data_file_name in dict_datafile:\n",
    "    \n",
    "    parameters_as_dictionary['FileName'] = data_file_name\n",
    "    ddm_calc = ddm.DDM_Analysis(parameters_as_dictionary)\n",
    "\n",
    "    tlags = np.arange(1,101,dtype=int) #We will compute the DDM matrix for all lag times from 1 frame to 998 frames\n",
    "    ddm_variability = ddm_calc.variationInDDMMatrix(tlags, save_full_ddmmat=False, velocity = [5,0])\n",
    "    ddm_variability.to_netcdf(\"%sddm_variability_matrix%s.nc\" % (ddm_calc.data_dir, ddm_calc.filename_for_saving_data)) \n"
   ]
  },
  {
   "cell_type": "code",
   "execution_count": null,
   "metadata": {},
   "outputs": [],
   "source": [
    "parameters_as_dictionary['FileName']"
   ]
  },
  {
   "cell_type": "code",
   "execution_count": null,
   "metadata": {},
   "outputs": [],
   "source": []
  }
 ],
 "metadata": {
  "kernelspec": {
   "display_name": "Python 3 (ipykernel)",
   "language": "python",
   "name": "python3"
  },
  "language_info": {
   "codemirror_mode": {
    "name": "ipython",
    "version": 3
   },
   "file_extension": ".py",
   "mimetype": "text/x-python",
   "name": "python",
   "nbconvert_exporter": "python",
   "pygments_lexer": "ipython3",
   "version": "3.9.12"
  },
  "toc-autonumbering": false,
  "toc-showcode": false,
  "toc-showmarkdowntxt": false,
  "widgets": {
   "state": {
    "0689152f16ed41dc8a8bcb723dd208ff": {
     "views": [
      {
       "cell_index": 12
      }
     ]
    },
    "26aa4e49158c4ac1849007468d752942": {
     "views": [
      {
       "cell_index": 5
      }
     ]
    },
    "2f4331df93e34013bb2c39527f242747": {
     "views": [
      {
       "cell_index": 12
      }
     ]
    },
    "44268e92f7a341398441a40371d4d52e": {
     "views": [
      {
       "cell_index": 12
      }
     ]
    },
    "865c7b14e4224de59bdedc2a153c180c": {
     "views": [
      {
       "cell_index": 12
      }
     ]
    },
    "875f47d176124605be1a53d9c460194d": {
     "views": [
      {
       "cell_index": 4
      }
     ]
    },
    "a7696b918cb04f9dba715f91419757d3": {
     "views": [
      {
       "cell_index": 5
      }
     ]
    },
    "a7856b7a541d49899761758860c70a33": {
     "views": [
      {
       "cell_index": 12
      }
     ]
    },
    "f3ec44c7464c43d6bb1b7c50fc36cceb": {
     "views": [
      {
       "cell_index": 5
      }
     ]
    },
    "f848a825e63a484f96afe2eaf70e7127": {
     "views": [
      {
       "cell_index": 5
      }
     ]
    }
   },
   "version": "1.2.0"
  }
 },
 "nbformat": 4,
 "nbformat_minor": 4
}
